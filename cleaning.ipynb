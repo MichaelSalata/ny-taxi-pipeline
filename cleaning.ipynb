{
 "cells": [
  {
   "cell_type": "markdown",
   "id": "23521af9",
   "metadata": {},
   "source": [
    "# Project_Title"
   ]
  },
  {
   "cell_type": "markdown",
   "id": "7e9802f8",
   "metadata": {},
   "source": [
    "# Background_Blog_Understanding_Problem"
   ]
  },
  {
   "cell_type": "markdown",
   "id": "e55fda5d",
   "metadata": {},
   "source": [
    "# Introduction\n",
    "## Description\n",
    "Description\n",
    "## Goals\n",
    "* become familiar with the columns in the dataset\n",
    "* select the target column\n",
    "* decide on the type of model\n",
    "* remove many columns that aren't useful for modeling"
   ]
  },
  {
   "cell_type": "markdown",
   "id": "bc36461e",
   "metadata": {},
   "source": [
    "# Data_Background\n",
    "## Source\n",
    "## How it was collected\n",
    "## Modifications"
   ]
  },
  {
   "cell_type": "markdown",
   "id": "85db1bc0",
   "metadata": {},
   "source": [
    "# Column / header info\n",
    "* **col0**: description0\n",
    "* **col1**: description1"
   ]
  },
  {
   "cell_type": "markdown",
   "id": "ebe90fb3",
   "metadata": {},
   "source": [
    "# Initial Observations\n",
    "* Observation0\n",
    "* Observation1"
   ]
  },
  {
   "cell_type": "code",
   "execution_count": null,
   "id": "04d43d6f",
   "metadata": {},
   "outputs": [],
   "source": [
    "df.info()"
   ]
  },
  {
   "cell_type": "code",
   "execution_count": null,
   "id": "1b46e1a3",
   "metadata": {},
   "outputs": [],
   "source": [
    "df.describe"
   ]
  },
  {
   "cell_type": "markdown",
   "id": "0945f807",
   "metadata": {},
   "source": [
    "# Cleaning"
   ]
  },
  {
   "cell_type": "code",
   "execution_count": null,
   "id": "b8d2ebb3",
   "metadata": {},
   "outputs": [],
   "source": []
  },
  {
   "cell_type": "markdown",
   "id": "0d5bf73a",
   "metadata": {},
   "source": [
    "# Ideas for Improvement\n",
    "* \n",
    "* "
   ]
  }
 ],
 "metadata": {
  "environment": {
   "kernel": "python3",
   "name": "pytorch-gpu.1-13.m103",
   "type": "gcloud",
   "uri": "gcr.io/deeplearning-platform-release/pytorch-gpu.1-13:m103"
  },
  "kernelspec": {
   "display_name": "Python 3 (ipykernel)",
   "language": "python",
   "name": "python3"
  },
  "language_info": {
   "codemirror_mode": {
    "name": "ipython",
    "version": 3
   },
   "file_extension": ".py",
   "mimetype": "text/x-python",
   "name": "python",
   "nbconvert_exporter": "python",
   "pygments_lexer": "ipython3",
   "version": "3.7.12"
  }
 },
 "nbformat": 4,
 "nbformat_minor": 5
}
